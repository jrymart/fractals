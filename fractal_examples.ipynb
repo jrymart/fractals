{
 "cells": [
  {
   "cell_type": "code",
   "execution_count": 3,
   "id": "3f7dddd0-b7f3-40d3-9ef4-a46453b45fdb",
   "metadata": {},
   "outputs": [],
   "source": [
    "import numpy as np\n",
    "from fractals import FractalFeature\n",
    "from fractals import GdalFractal\n",
    "from matplotlib import pyplot as plt\n",
    "import fiona\n",
    "import geopandas as gpd\n",
    "from osgeo import gdal\n",
    "from scipy.stats import linregress\n",
    "import os\n",
    "from PIL import Image\n"
   ]
  },
  {
   "cell_type": "markdown",
   "id": "6a403422-fec4-4f49-a6b2-aa0a405f95d6",
   "metadata": {},
   "source": [
    "# FractalFeature\n",
    "FractalFeature is a class that is used for calculating the box counting dimension of different features.  It consists of a 2d array representing the \"highest\" resolution covering a feature, an associated size, and then a list of coverings, which are other FractalFeature objects that represent the same feature but with different covering sizes.  Below is a very simple example feature, with 1's where the feature exists in space, and 0 where it doesn't."
   ]
  },
  {
   "cell_type": "code",
   "execution_count": 9,
   "id": "1a396d6a-5ccf-447e-95b8-23d5356466fc",
   "metadata": {},
   "outputs": [],
   "source": [
    "feature = np.array([[1,0,0,0,0,0],\n",
    "                   [1,1,0,0,0,0],\n",
    "                   [0,1,0,0,0,0],\n",
    "                   [0,1,1,1,0,0],\n",
    "                   [0,0,0,1,0,0],\n",
    "                   [0,0,0,1,1,0],\n",
    "                   [0,0,0,0,1,0],\n",
    "                   [0,0,0,0,1,0]])"
   ]
  },
  {
   "cell_type": "code",
   "execution_count": 4,
   "id": "de53a5a5-3ba2-4a39-9a68-2168c884ff06",
   "metadata": {},
   "outputs": [],
   "source": [
    "ff=FractalFeature(feature)"
   ]
  },
  {
   "cell_type": "code",
   "execution_count": 14,
   "id": "8ff206b5-d554-423c-aba4-30e83cfc8ba0",
   "metadata": {},
   "outputs": [
    {
     "data": {
      "text/plain": [
       "12.0"
      ]
     },
     "execution_count": 14,
     "metadata": {},
     "output_type": "execute_result"
    }
   ],
   "source": [
    "np.mean(feature)*feature.shape[0]*feature.shape[1]"
   ]
  },
  {
   "cell_type": "code",
   "execution_count": 16,
   "id": "96f834dc-becc-4064-9de7-541a4b629c9d",
   "metadata": {},
   "outputs": [
    {
     "data": {
      "text/plain": [
       "12"
      ]
     },
     "execution_count": 16,
     "metadata": {},
     "output_type": "execute_result"
    }
   ],
   "source": []
  },
  {
   "cell_type": "markdown",
   "id": "4a2f587b-0aae-4bdf-a583-ed1cdbf53bd5",
   "metadata": {},
   "source": [
    "Now that we have made our FractalFeature object, we can add coverings"
   ]
  },
  {
   "cell_type": "code",
   "execution_count": 5,
   "id": "070c1f4d-44be-4605-9b6a-2fca7bf400fa",
   "metadata": {},
   "outputs": [],
   "source": [
    "ff.add_covering(None, 2,2)\n",
    "ff.add_covering(None, 2,3)\n",
    "ff.add_covering(None, 3,2)\n",
    "ff.add_covering(None, 3,3)"
   ]
  },
  {
   "cell_type": "code",
   "execution_count": 6,
   "id": "b81bb91a-7e4a-4a9b-86cb-857361012a95",
   "metadata": {},
   "outputs": [
    {
     "name": "stdout",
     "output_type": "stream",
     "text": [
      "[[1 0 0 0 0 0]\n",
      " [1 1 0 0 0 0]\n",
      " [0 1 0 0 0 0]\n",
      " [0 1 1 1 0 0]\n",
      " [0 0 0 1 0 0]\n",
      " [0 0 0 1 1 0]\n",
      " [0 0 0 0 1 0]\n",
      " [0 0 0 0 1 0]]\n",
      "[[1 0 0]\n",
      " [1 1 0]\n",
      " [0 1 1]\n",
      " [0 0 1]]\n",
      "[[1. 0. 0.]\n",
      " [1. 1. 1.]\n",
      " [0. 0. 1.]]\n",
      "[[1 0]\n",
      " [1 1]\n",
      " [0 1]\n",
      " [0 1]]\n",
      "[[1. 0.]\n",
      " [1. 1.]\n",
      " [0. 1.]]\n"
     ]
    }
   ],
   "source": [
    "for covering in ff.coverings:\n",
    "    print(covering.feature_raster)"
   ]
  },
  {
   "cell_type": "markdown",
   "id": "252c8499-54b6-4aab-bca4-3f69e676cccb",
   "metadata": {},
   "source": [
    "And lastly we can plot box covering size and number of boxes needed to cover, to determine fractal dimension of a feature."
   ]
  },
  {
   "cell_type": "code",
   "execution_count": 7,
   "id": "43079072-de3b-42e8-a4c0-28c5af51b4cb",
   "metadata": {},
   "outputs": [
    {
     "data": {
      "text/plain": [
       "<matplotlib.collections.PathCollection at 0x7f8007182b50>"
      ]
     },
     "execution_count": 7,
     "metadata": {},
     "output_type": "execute_result"
    },
    {
     "data": {
      "image/png": "[encoded data removed]",
      "text/plain": [
       "<Figure size 640x480 with 1 Axes>"
      ]
     },
     "metadata": {},
     "output_type": "display_data"
    }
   ],
   "source": [
    "box_size, number_of_boxes=ff.return_covering_points()\n",
    "plt.scatter(box_size, number_of_boxes)"
   ]
  },
  {
   "cell_type": "markdown",
   "id": "24124ae9-7af0-45d6-a90e-ad4dc0b905f0",
   "metadata": {},
   "source": [
    "# Coastlines\n",
    "Below is an example using an array representing the coastline of Iceland"
   ]
  },
  {
   "cell_type": "code",
   "execution_count": 8,
   "id": "c7d4a3f9-eb61-49a2-bfd9-4995ddb8f2e1",
   "metadata": {},
   "outputs": [],
   "source": [
    "iceland_shape_path=\"/home/jo/cub/research/data/coastlines/Europe_coastline_poly.shp\"\n",
    "iceland_fractal_directory = \"/home/jo/cub/research/projects/fractals/iceland_data\""
   ]
  },
  {
   "cell_type": "code",
   "execution_count": 9,
   "id": "86312331-2ad7-46c1-8c7c-08a4bf5661ca",
   "metadata": {},
   "outputs": [
    {
     "name": "stderr",
     "output_type": "stream",
     "text": [
      "/home/jo/miniconda3/lib/python3.11/site-packages/osgeo/gdal.py:287: FutureWarning: Neither gdal.UseExceptions() nor gdal.DontUseExceptions() has been explicitly called. In GDAL 4.0, exceptions will be enabled by default.\n",
      "  warnings.warn(\n"
     ]
    },
    {
     "name": "stdout",
     "output_type": "stream",
     "text": [
      "/home/jo/cub/research/projects/fractals/iceland_data/fractal_100.tif\n"
     ]
    }
   ],
   "source": [
    "iceland_fractal = GdalFractal(iceland_shape_path, iceland_fractal_directory, 100)"
   ]
  },
  {
   "cell_type": "code",
   "execution_count": 10,
   "id": "620e7a47-9e5d-4e3b-9333-3f1558caaafd",
   "metadata": {},
   "outputs": [
    {
     "data": {
      "text/plain": [
       "(array([100]), array([4.79451409e+09]))"
      ]
     },
     "execution_count": 10,
     "metadata": {},
     "output_type": "execute_result"
    }
   ],
   "source": [
    "iceland_fractal.return_covering_points()"
   ]
  },
  {
   "cell_type": "code",
   "execution_count": 12,
   "id": "1a8abfba-de49-43e0-b80d-028076d8acf6",
   "metadata": {},
   "outputs": [
    {
     "name": "stdout",
     "output_type": "stream",
     "text": [
      "/home/jo/cub/research/projects/fractals/iceland_data/fractal_1000.tif\n"
     ]
    }
   ],
   "source": [
    "iceland_fractal.add_covering(1000)"
   ]
  },
  {
   "cell_type": "code",
   "execution_count": 13,
   "id": "daef5959-74bb-4416-81bb-96a6a723d308",
   "metadata": {},
   "outputs": [
    {
     "name": "stdout",
     "output_type": "stream",
     "text": [
      "/home/jo/cub/research/projects/fractals/iceland_data/fractal_200.tif\n",
      "/home/jo/cub/research/projects/fractals/iceland_data/fractal_500.tif\n",
      "/home/jo/cub/research/projects/fractals/iceland_data/fractal_2000.tif\n",
      "/home/jo/cub/research/projects/fractals/iceland_data/fractal_5000.tif\n"
     ]
    }
   ],
   "source": [
    "iceland_fractal.add_covering(200)\n",
    "iceland_fractal.add_covering(500)\n",
    "iceland_fractal.add_covering(2000)\n",
    "iceland_fractal.add_covering(5000)\n"
   ]
  },
  {
   "cell_type": "code",
   "execution_count": 60,
   "id": "e8ace357-8129-4f09-b167-8c62148f8687",
   "metadata": {},
   "outputs": [
    {
     "data": {
      "image/png": "[encoded data removed]",
      "text/plain": [
       "<Figure size 640x480 with 1 Axes>"
      ]
     },
     "metadata": {},
     "output_type": "display_data"
    }
   ],
   "source": [
    "iceland_box_size, iceland_number_of_boxes=iceland_fractal.return_covering_points()\n",
    "plt.scatter(np.log10(iceland_box_size), np.log10(iceland_number_of_boxes))\n",
    "plt.xlim(0,10), plt.ylim(0,10)\n",
    "ax=plt.gca()\n",
    "ax.set_aspect('equal', adjustable='box')"
   ]
  },
  {
   "cell_type": "code",
   "execution_count": 61,
   "id": "1302982a-e78e-4920-b8b7-9829949dd646",
   "metadata": {},
   "outputs": [
    {
     "data": {
      "image/png": "[encoded data removed]",
      "text/plain": [
       "<Figure size 640x480 with 1 Axes>"
      ]
     },
     "metadata": {},
     "output_type": "display_data"
    }
   ],
   "source": [
    "iceland_box_size, iceland_number_of_boxes=iceland_fractal.return_covering_points()\n",
    "plt.scatter(np.log10(iceland_box_size*1000), np.log10(iceland_number_of_boxes))\n",
    "plt.xlim(0,10), plt.ylim(0,10)\n",
    "ax=plt.gca()\n",
    "ax.set_aspect('equal', adjustable='box')"
   ]
  },
  {
   "cell_type": "code",
   "execution_count": 57,
   "id": "8291aa2b-66a7-473b-b80d-998acc11bbd8",
   "metadata": {
    "scrolled": true
   },
   "outputs": [],
   "source": [
    "iceland_reg = linregress(np.log10(iceland_box_size),np.log10(iceland_number_of_boxes))"
   ]
  },
  {
   "cell_type": "code",
   "execution_count": 58,
   "id": "c426839a-0845-445f-b7bb-7aaaf1f6674e",
   "metadata": {},
   "outputs": [
    {
     "data": {
      "text/plain": [
       "LinregressResult(slope=-1.9996565194852651, intercept=13.679949091384493, rvalue=-0.9999999936024199, pvalue=6.139354719349775e-17, stderr=0.0001130962683622253, intercept_stderr=0.0003269973989715007)"
      ]
     },
     "execution_count": 58,
     "metadata": {},
     "output_type": "execute_result"
    }
   ],
   "source": [
    "iceland_reg"
   ]
  },
  {
   "cell_type": "code",
   "execution_count": 30,
   "id": "2a512b83-a78f-4e76-a29c-471fc6c8f76b",
   "metadata": {},
   "outputs": [
    {
     "data": {
      "text/plain": [
       "array([22.2907382 , 17.68583865, 20.90448777, 19.07199415, 16.29969445,\n",
       "       14.46827992])"
      ]
     },
     "execution_count": 30,
     "metadata": {},
     "output_type": "execute_result"
    }
   ],
   "source": [
    "np.log(iceland_number_of_boxes)\n"
   ]
  },
  {
   "cell_type": "code",
   "execution_count": 31,
   "id": "39a69eb7-5d71-477f-bf9e-200b5e715a8e",
   "metadata": {},
   "outputs": [
    {
     "data": {
      "text/plain": [
       "array([4.60517019, 6.90775528, 5.29831737, 6.2146081 , 7.60090246,\n",
       "       8.51719319])"
      ]
     },
     "execution_count": 31,
     "metadata": {},
     "output_type": "execute_result"
    }
   ],
   "source": [
    "np.log(iceland_box_size)"
   ]
  },
  {
   "cell_type": "code",
   "execution_count": null,
   "id": "139a436b-43b6-48c5-a5ea-967fc1487fef",
   "metadata": {},
   "outputs": [],
   "source": [
    "for file in os.listdir(iceland_fractal.raster_directory):\n",
    "    path = os.path.join(iceland_fractal.raster_directory, file)\n",
    "    imgds = gdal.Open(path)\n",
    "    imgarr = imgds.ReadAsArray()\n",
    "    plt.imshow(imgarr)"
   ]
  },
  {
   "cell_type": "code",
   "execution_count": 7,
   "id": "e1e061db-b974-44d1-b97d-8cf4029a4af4",
   "metadata": {},
   "outputs": [
    {
     "data": {
      "text/plain": [
       "<matplotlib.image.AxesImage at 0x7f01e9542010>"
      ]
     },
     "execution_count": 7,
     "metadata": {},
     "output_type": "execute_result"
    },
    {
     "data": {
      "image/png": "[encoded data removed]",
      "text/plain": [
       "<Figure size 640x480 with 1 Axes>"
      ]
     },
     "metadata": {},
     "output_type": "display_data"
    }
   ],
   "source": [
    "path = \"/home/jo/cub/research/projects/fractals/iceland_data/fractal_500.tif\"\n",
    "imgds = gdal.Open(path)\n",
    "imgarr = imgds.ReadAsArray()\n",
    "plt.imshow(imgarr,vmax=1)"
   ]
  },
  {
   "cell_type": "code",
   "execution_count": 8,
   "id": "e0edd865-1f20-4e92-86ba-cfaf57ef747d",
   "metadata": {},
   "outputs": [
    {
     "data": {
      "text/plain": [
       "(array([0.00000000e+00, 0.00000000e+00, 0.00000000e+00, 0.00000000e+00,\n",
       "        0.00000000e+00, 1.91805836e+08, 0.00000000e+00, 0.00000000e+00,\n",
       "        0.00000000e+00, 0.00000000e+00]),\n",
       " array([0.5, 0.6, 0.7, 0.8, 0.9, 1. , 1.1, 1.2, 1.3, 1.4, 1.5]),\n",
       " <BarContainer object of 10 artists>)"
      ]
     },
     "execution_count": 8,
     "metadata": {},
     "output_type": "execute_result"
    },
    {
     "data": {
      "image/png": "[encoded data removed]",
      "text/plain": [
       "<Figure size 640x480 with 1 Axes>"
      ]
     },
     "metadata": {},
     "output_type": "display_data"
    }
   ],
   "source": [
    "plt.hist(imgarr.flatten())"
   ]
  },
  {
   "cell_type": "code",
   "execution_count": 19,
   "id": "67d08243-40aa-4e4a-aa1b-e9d51b9ea4c5",
   "metadata": {},
   "outputs": [
    {
     "data": {
      "text/plain": [
       "(943359.7539000002, 500.0, 0.0, 6825369.3209000025, 0.0, -500.0)"
      ]
     },
     "execution_count": 19,
     "metadata": {},
     "output_type": "execute_result"
    }
   ],
   "source": [
    "imgds.GetGeoTransform()"
   ]
  },
  {
   "cell_type": "code",
   "execution_count": 20,
   "id": "28216307-5372-4163-8257-8f3b8ce02bdb",
   "metadata": {},
   "outputs": [
    {
     "data": {
      "text/plain": [
       "{'AREA_OR_POINT': 'Area'}"
      ]
     },
     "execution_count": 20,
     "metadata": {},
     "output_type": "execute_result"
    }
   ],
   "source": [
    "imgds.GetMetadata()"
   ]
  },
  {
   "cell_type": "code",
   "execution_count": 21,
   "id": "d87bdd12-c42f-4a0f-ba3a-f013b747eb4a",
   "metadata": {},
   "outputs": [
    {
     "data": {
      "text/plain": [
       "500"
      ]
     },
     "execution_count": 21,
     "metadata": {},
     "output_type": "execute_result"
    }
   ],
   "source": [
    "np.abs(-500)"
   ]
  },
  {
   "cell_type": "code",
   "execution_count": null,
   "id": "9055ad9c-eaa4-4b67-97a4-c52158c7546e",
   "metadata": {},
   "outputs": [],
   "source": []
  }
 ],
 "metadata": {
  "kernelspec": {
   "display_name": "Python 3 (ipykernel)",
   "language": "python",
   "name": "python3"
  },
  "language_info": {
   "codemirror_mode": {
    "name": "ipython",
    "version": 3
   },
   "file_extension": ".py",
   "mimetype": "text/x-python",
   "name": "python",
   "nbconvert_exporter": "python",
   "pygments_lexer": "ipython3",
   "version": "3.11.5"
  }
 },
 "nbformat": 4,
 "nbformat_minor": 5
}
